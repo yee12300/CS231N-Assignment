{
 "cells": [
  {
   "cell_type": "code",
   "execution_count": null,
   "outputs": [],
   "source": [
    "\"\"\"\n",
    "# This mounts your Google Drive to the Colab VM.\n",
    "from google.colab import drive\n",
    "drive.mount('/content/drive')\n",
    "\n",
    "# TODO: Enter the foldername in your Drive where you have saved the unzipped\n",
    "# assignment folder, e.g. 'cs231n/assignments/assignment1/'\n",
    "FOLDERNAME = None\n",
    "assert FOLDERNAME is not None, \"[!] Enter the foldername.\"\n",
    "\n",
    "# Now that we've mounted your Drive, this ensures that\n",
    "# the Python interpreter of the Colab VM can load\n",
    "# python files from within it.\n",
    "import sys\n",
    "sys.path.append('/content/drive/My Drive/{}'.format(FOLDERNAME))\n",
    "\n",
    "# This downloads the CIFAR-10 dataset to your Drive\n",
    "# if it doesn't already exist.\n",
    "%cd /content/drive/My\\ Drive/$FOLDERNAME/cs231n/datasets/\n",
    "!bash get_datasets.sh\n",
    "%cd /content/drive/My\\ Drive/$FOLDERNAME\n",
    "\"\"\"\n",
    "\n",
    "# This mounts your Google Drive to the Colab VM.\n",
    "# from google.colab import drive\n",
    "# drive.mount('/content/drive')\n",
    "\n",
    "# TODO: Enter the foldername in your Drive where you have saved the unzipped\n",
    "# assignment folder, e.g. 'cs231n/assignments/assignment1/'\n",
    "# FOLDERNAME = None\n",
    "# assert FOLDERNAME is not None, \"[!] Enter the foldername.\"\n",
    "\n",
    "# Now that we've mounted your Drive, this ensures that\n",
    "# the Python interpreter of the Colab VM can load\n",
    "# python files from within it.\n",
    "import sys\n",
    "sys.path.append('C:/coding/Personal Project/Stanford/cs231n/assignment1/')\n",
    "\n",
    "# This downloads the CIFAR-10 dataset to your Drive\n",
    "# if it doesn't already exist.\n",
    "%cd C:/coding/Personal Project/Stanford/cs231n/assignment1/cs231n/datasets\n",
    "!bash get_datasets.sh\n",
    "%cd C:/coding/Personal Project/Stanford/cs231n/assignment1"
   ],
   "metadata": {
    "collapsed": false
   },
   "id": "a4dbcb4345e8a67"
  },
  {
   "cell_type": "markdown",
   "source": [
    "# Image features exercise\n",
    "*Complete and hand in this completed worksheet (including its outputs and any supporting code outside of the worksheet) with your assignment submission. For more details see the [assignments page](http://vision.stanford.edu/teaching/cs231n/assignments.html) on the course website.*\n",
    "\n",
    "We have seen that we can achieve reasonable performance on an image classification task by training a linear classifier on the pixels of the input image. In this exercise we will show that we can improve our classification performance by training linear classifiers not on raw pixels but on features that are computed from the raw pixels.\n",
    "\n",
    "All of your work for this exercise will be done in this notebook."
   ],
   "metadata": {
    "collapsed": false
   },
   "id": "6629d43d2ce820d4"
  },
  {
   "cell_type": "code",
   "execution_count": null,
   "outputs": [],
   "source": [
    "import random\n",
    "import numpy as np\n",
    "from cs231n.data_utils import load_CIFAR10\n",
    "import matplotlib.pyplot as plt\n",
    "\n",
    "\n",
    "%matplotlib inline\n",
    "plt.rcParams['figure.figsize'] = (10.0, 8.0) # set default size of plots\n",
    "plt.rcParams['image.interpolation'] = 'nearest'\n",
    "plt.rcParams['image.cmap'] = 'gray'\n",
    "\n",
    "# for auto-reloading extenrnal modules\n",
    "# see http://stackoverflow.com/questions/1907993/autoreload-of-modules-in-ipython\n",
    "%load_ext autoreload\n",
    "%autoreload 2"
   ],
   "metadata": {
    "collapsed": false
   },
   "id": "4639e128098569a"
  },
  {
   "cell_type": "markdown",
   "source": [
    "## Load data\n",
    "Similar to previous exercises, we will load CIFAR-10 data from disk."
   ],
   "metadata": {
    "collapsed": false
   },
   "id": "e245ee01554a4985"
  },
  {
   "cell_type": "code",
   "execution_count": null,
   "outputs": [],
   "source": [
    "from cs231n.features import color_histogram_hsv, hog_feature\n",
    "\n",
    "def get_CIFAR10_data(num_training=49000, num_validation=1000, num_test=1000):\n",
    "    # Load the raw CIFAR-10 data\n",
    "    cifar10_dir = 'cs231n/datasets/cifar-10-batches-py'\n",
    "\n",
    "    # Cleaning up variables to prevent loading data multiple times (which may cause memory issue)\n",
    "    try:\n",
    "       del X_train, y_train\n",
    "       del X_test, y_test\n",
    "       print('Clear previously loaded data.')\n",
    "    except:\n",
    "       pass\n",
    "\n",
    "    X_train, y_train, X_test, y_test = load_CIFAR10(cifar10_dir)\n",
    "    \n",
    "    # Subsample the data\n",
    "    mask = list(range(num_training, num_training + num_validation))\n",
    "    X_val = X_train[mask]\n",
    "    y_val = y_train[mask]\n",
    "    mask = list(range(num_training))\n",
    "    X_train = X_train[mask]\n",
    "    y_train = y_train[mask]\n",
    "    mask = list(range(num_test))\n",
    "    X_test = X_test[mask]\n",
    "    y_test = y_test[mask]\n",
    "    \n",
    "    return X_train, y_train, X_val, y_val, X_test, y_test\n",
    "\n",
    "X_train, y_train, X_val, y_val, X_test, y_test = get_CIFAR10_data()"
   ],
   "metadata": {
    "collapsed": false
   },
   "id": "ab8f3b9295943500"
  },
  {
   "cell_type": "markdown",
   "source": [
    "## Extract Features\n",
    "For each image we will compute a Histogram of Oriented\n",
    "Gradients (HOG) as well as a color histogram using the hue channel in HSV\n",
    "color space. We form our final feature vector for each image by concatenating\n",
    "the HOG and color histogram feature vectors.\n",
    "\n",
    "Roughly speaking, HOG should capture the texture of the image while ignoring\n",
    "color information, and the color histogram represents the color of the input\n",
    "image while ignoring texture. As a result, we expect that using both together\n",
    "ought to work better than using either alone. Verifying this assumption would\n",
    "be a good thing to try for your own interest.\n",
    "\n",
    "The `hog_feature` and `color_histogram_hsv` functions both operate on a single\n",
    "image and return a feature vector for that image. The extract_features\n",
    "function takes a set of images and a list of feature functions and evaluates\n",
    "each feature function on each image, storing the results in a matrix where\n",
    "each column is the concatenation of all feature vectors for a single image."
   ],
   "metadata": {
    "collapsed": false
   },
   "id": "49e170799646c341"
  },
  {
   "cell_type": "code",
   "execution_count": null,
   "outputs": [],
   "source": [
    "from cs231n.features import *\n",
    "\n",
    "num_color_bins = 10 # Number of bins in the color histogram\n",
    "feature_fns = [hog_feature, lambda img: color_histogram_hsv(img, nbin=num_color_bins)]\n",
    "X_train_feats = extract_features(X_train, feature_fns, verbose=True)\n",
    "X_val_feats = extract_features(X_val, feature_fns)\n",
    "X_test_feats = extract_features(X_test, feature_fns)\n",
    "\n",
    "# Preprocessing: Subtract the mean feature\n",
    "mean_feat = np.mean(X_train_feats, axis=0, keepdims=True)\n",
    "X_train_feats -= mean_feat\n",
    "X_val_feats -= mean_feat\n",
    "X_test_feats -= mean_feat\n",
    "\n",
    "# Preprocessing: Divide by standard deviation. This ensures that each feature\n",
    "# has roughly the same scale.\n",
    "std_feat = np.std(X_train_feats, axis=0, keepdims=True)\n",
    "X_train_feats /= std_feat\n",
    "X_val_feats /= std_feat\n",
    "X_test_feats /= std_feat\n",
    "\n",
    "# Preprocessing: Add a bias dimension\n",
    "X_train_feats = np.hstack([X_train_feats, np.ones((X_train_feats.shape[0], 1))])\n",
    "X_val_feats = np.hstack([X_val_feats, np.ones((X_val_feats.shape[0], 1))])\n",
    "X_test_feats = np.hstack([X_test_feats, np.ones((X_test_feats.shape[0], 1))])"
   ],
   "metadata": {
    "collapsed": false
   },
   "id": "ae16e557980ea48f"
  },
  {
   "cell_type": "markdown",
   "source": [
    "## Train SVM on features\n",
    "Using the multiclass SVM code developed earlier in the assignment, train SVMs on top of the features extracted above; this should achieve better results than training SVMs directly on top of raw pixels."
   ],
   "metadata": {
    "collapsed": false
   },
   "id": "1ba1f5a6e172e8e2"
  },
  {
   "cell_type": "code",
   "execution_count": null,
   "outputs": [],
   "source": [
    "# Use the validation set to tune the learning rate and regularization strength\n",
    "\n",
    "from cs231n.classifiers.linear_classifier import LinearSVM\n",
    "\n",
    "learning_rates = [1e-9, 1e-8, 1e-7]\n",
    "regularization_strengths = [5e4, 5e5, 5e6]\n",
    "\n",
    "results = {}\n",
    "best_val = -1\n",
    "best_svm = None\n",
    "\n",
    "################################################################################\n",
    "# TODO:                                                                        #\n",
    "# Use the validation set to set the learning rate and regularization strength. #\n",
    "# This should be identical to the validation that you did for the SVM; save    #\n",
    "# the best trained classifer in best_svm. You might also want to play          #\n",
    "# with different numbers of bins in the color histogram. If you are careful    #\n",
    "# you should be able to get accuracy of near 0.44 on the validation set.       #\n",
    "################################################################################\n",
    "# *****START OF YOUR CODE (DO NOT DELETE/MODIFY THIS LINE)*****\n",
    "\n",
    "learning_rates = [1e-7, 3e-6, 5e-5]\n",
    "regularization_strengths = [2.5e4, 5e4, 7.5e4]\n",
    "\n",
    "for lr in learning_rates:\n",
    "    for reg in regularization_strengths:\n",
    "        svm = LinearSVM()\n",
    "        loss_hist = svm.train(X_train_feats, y_train, learning_rate=lr, reg=reg,\n",
    "                      num_iters=1500, verbose=False)\n",
    "        y_train_pred = svm.predict(X_train_feats)\n",
    "        train_accuracy = np.mean(y_train == y_train_pred)\n",
    "        y_val_pred = svm.predict(X_val_feats)\n",
    "        val_accuracy = np.mean(y_val == y_val_pred)\n",
    "        results[(lr, reg)] = (train_accuracy, val_accuracy)\n",
    "        if val_accuracy > best_val:\n",
    "            best_val = val_accuracy\n",
    "            best_svm = svm\n",
    "\n",
    "# *****END OF YOUR CODE (DO NOT DELETE/MODIFY THIS LINE)*****\n",
    "\n",
    "# Print out results.\n",
    "for lr, reg in sorted(results):\n",
    "    train_accuracy, val_accuracy = results[(lr, reg)]\n",
    "    print('lr %e reg %e train accuracy: %f val accuracy: %f' % (\n",
    "                lr, reg, train_accuracy, val_accuracy))\n",
    "    \n",
    "print('best validation accuracy achieved: %f' % best_val)"
   ],
   "metadata": {
    "collapsed": false
   },
   "id": "51cc873fddaab5e5"
  },
  {
   "cell_type": "code",
   "execution_count": null,
   "outputs": [],
   "source": [
    "# Evaluate your trained SVM on the test set: you should be able to get at least 0.40\n",
    "y_test_pred = best_svm.predict(X_test_feats)\n",
    "test_accuracy = np.mean(y_test == y_test_pred)\n",
    "print(test_accuracy)"
   ],
   "metadata": {
    "collapsed": false
   },
   "id": "b0507dfda922771b"
  },
  {
   "cell_type": "code",
   "execution_count": null,
   "outputs": [],
   "source": [
    "# An important way to gain intuition about how an algorithm works is to\n",
    "# visualize the mistakes that it makes. In this visualization, we show examples\n",
    "# of images that are misclassified by our current system. The first column\n",
    "# shows images that our system labeled as \"plane\" but whose true label is\n",
    "# something other than \"plane\".\n",
    "\n",
    "examples_per_class = 8\n",
    "classes = ['plane', 'car', 'bird', 'cat', 'deer', 'dog', 'frog', 'horse', 'ship', 'truck']\n",
    "for cls, cls_name in enumerate(classes):\n",
    "    idxs = np.where((y_test != cls) & (y_test_pred == cls))[0]\n",
    "    idxs = np.random.choice(idxs, examples_per_class, replace=False)\n",
    "    for i, idx in enumerate(idxs):\n",
    "        plt.subplot(examples_per_class, len(classes), i * len(classes) + cls + 1)\n",
    "        plt.imshow(X_test[idx].astype('uint8'))\n",
    "        plt.axis('off')\n",
    "        if i == 0:\n",
    "            plt.title(cls_name)\n",
    "plt.show()"
   ],
   "metadata": {
    "collapsed": false
   },
   "id": "881629b1f3f4c2d3"
  },
  {
   "cell_type": "markdown",
   "source": [
    "### Inline question 1:\n",
    "Describe the misclassification results that you see. Do they make sense?\n",
    "\n",
    "\n",
    "$\\color{blue}{\\textit Your Answer:}$ Yes.\n",
    "\n",
    "\n"
   ],
   "metadata": {
    "collapsed": false
   },
   "id": "f4bbd872dc6fdfdb"
  },
  {
   "cell_type": "markdown",
   "id": "5c59b590",
   "metadata": {},
   "source": [
    "## Neural Network on image features\n",
    "Earlier in this assigment we saw that training a two-layer neural network on raw pixels achieved better classification performance than linear classifiers on raw pixels. In this notebook we have seen that linear classifiers on image features outperform linear classifiers on raw pixels. \n",
    "\n",
    "For completeness, we should also try training a neural network on image features. This approach should outperform all previous approaches: you should easily be able to achieve over 55% classification accuracy on the test set; our best model achieves about 60% classification accuracy."
   ]
  },
  {
   "cell_type": "code",
   "execution_count": 11,
   "id": "3b1ebd7d",
   "metadata": {
    "tags": [
     "pdf-ignore"
    ],
    "ExecuteTime": {
     "end_time": "2024-03-14T12:41:28.225132Z",
     "start_time": "2024-03-14T12:41:28.156516100Z"
    }
   },
   "outputs": [
    {
     "name": "stdout",
     "output_type": "stream",
     "text": [
      "(49000, 155)\n",
      "(49000, 154)\n"
     ]
    }
   ],
   "source": [
    "# Preprocessing: Remove the bias dimension\n",
    "# Make sure to run this cell only ONCE\n",
    "print(X_train_feats.shape)\n",
    "X_train_feats = X_train_feats[:, :-1]\n",
    "X_val_feats = X_val_feats[:, :-1]\n",
    "X_test_feats = X_test_feats[:, :-1]\n",
    "\n",
    "print(X_train_feats.shape)"
   ]
  },
  {
   "cell_type": "code",
   "execution_count": 17,
   "id": "6fbe3367",
   "metadata": {
    "tags": [
     "code"
    ],
    "ExecuteTime": {
     "end_time": "2024-03-14T13:10:08.491155200Z",
     "start_time": "2024-03-14T13:08:30.172857Z"
    }
   },
   "outputs": [
    {
     "name": "stdout",
     "output_type": "stream",
     "text": [
      "best validation accuracy achieved: 0.257000\n",
      "best params:  ('sgd', 0.001, 500, 0.05)\n",
      "best validation accuracy achieved: 0.341000\n",
      "best params:  ('sgd', 0.01, 500, 0.05)\n"
     ]
    },
    {
     "ename": "KeyboardInterrupt",
     "evalue": "",
     "output_type": "error",
     "traceback": [
      "\u001B[1;31m---------------------------------------------------------------------------\u001B[0m",
      "\u001B[1;31mKeyboardInterrupt\u001B[0m                         Traceback (most recent call last)",
      "Cell \u001B[1;32mIn[17], line 45\u001B[0m\n\u001B[0;32m     36\u001B[0m net \u001B[38;5;241m=\u001B[39m TwoLayerNet(input_dim, hs, num_classes, reg\u001B[38;5;241m=\u001B[39mreg)\n\u001B[0;32m     37\u001B[0m solver \u001B[38;5;241m=\u001B[39m Solver(net, data,\n\u001B[0;32m     38\u001B[0m                 update_rule\u001B[38;5;241m=\u001B[39mopt,\n\u001B[0;32m     39\u001B[0m                 optim_config\u001B[38;5;241m=\u001B[39m{\n\u001B[1;32m   (...)\u001B[0m\n\u001B[0;32m     43\u001B[0m                 num_epochs\u001B[38;5;241m=\u001B[39m\u001B[38;5;241m5\u001B[39m, batch_size\u001B[38;5;241m=\u001B[39m\u001B[38;5;241m100\u001B[39m,\n\u001B[0;32m     44\u001B[0m                 verbose\u001B[38;5;241m=\u001B[39m\u001B[38;5;28;01mFalse\u001B[39;00m)\n\u001B[1;32m---> 45\u001B[0m solver\u001B[38;5;241m.\u001B[39mtrain()\n\u001B[0;32m     46\u001B[0m val_acc \u001B[38;5;241m=\u001B[39m solver\u001B[38;5;241m.\u001B[39mbest_val_acc\n\u001B[0;32m     47\u001B[0m \u001B[38;5;28;01mif\u001B[39;00m val_acc \u001B[38;5;241m>\u001B[39m best_val:\n",
      "File \u001B[1;32mC:\\coding\\Personal Project\\Stanford\\cs231n\\assignment1\\cs231n\\solver.py:263\u001B[0m, in \u001B[0;36mSolver.train\u001B[1;34m(self)\u001B[0m\n\u001B[0;32m    260\u001B[0m num_iterations \u001B[38;5;241m=\u001B[39m \u001B[38;5;28mself\u001B[39m\u001B[38;5;241m.\u001B[39mnum_epochs \u001B[38;5;241m*\u001B[39m iterations_per_epoch\n\u001B[0;32m    262\u001B[0m \u001B[38;5;28;01mfor\u001B[39;00m t \u001B[38;5;129;01min\u001B[39;00m \u001B[38;5;28mrange\u001B[39m(num_iterations):\n\u001B[1;32m--> 263\u001B[0m     \u001B[38;5;28mself\u001B[39m\u001B[38;5;241m.\u001B[39m_step()\n\u001B[0;32m    265\u001B[0m     \u001B[38;5;66;03m# Maybe print training loss\u001B[39;00m\n\u001B[0;32m    266\u001B[0m     \u001B[38;5;28;01mif\u001B[39;00m \u001B[38;5;28mself\u001B[39m\u001B[38;5;241m.\u001B[39mverbose \u001B[38;5;129;01mand\u001B[39;00m t \u001B[38;5;241m%\u001B[39m \u001B[38;5;28mself\u001B[39m\u001B[38;5;241m.\u001B[39mprint_every \u001B[38;5;241m==\u001B[39m \u001B[38;5;241m0\u001B[39m:\n",
      "File \u001B[1;32mC:\\coding\\Personal Project\\Stanford\\cs231n\\assignment1\\cs231n\\solver.py:181\u001B[0m, in \u001B[0;36mSolver._step\u001B[1;34m(self)\u001B[0m\n\u001B[0;32m    178\u001B[0m y_batch \u001B[38;5;241m=\u001B[39m \u001B[38;5;28mself\u001B[39m\u001B[38;5;241m.\u001B[39my_train[batch_mask]\n\u001B[0;32m    180\u001B[0m \u001B[38;5;66;03m# Compute loss and gradient\u001B[39;00m\n\u001B[1;32m--> 181\u001B[0m loss, grads \u001B[38;5;241m=\u001B[39m \u001B[38;5;28mself\u001B[39m\u001B[38;5;241m.\u001B[39mmodel\u001B[38;5;241m.\u001B[39mloss(X_batch, y_batch)\n\u001B[0;32m    182\u001B[0m \u001B[38;5;28mself\u001B[39m\u001B[38;5;241m.\u001B[39mloss_history\u001B[38;5;241m.\u001B[39mappend(loss)\n\u001B[0;32m    184\u001B[0m \u001B[38;5;66;03m# Perform a parameter update\u001B[39;00m\n",
      "File \u001B[1;32mC:\\coding\\Personal Project\\Stanford\\cs231n\\assignment1\\cs231n\\classifiers\\fc_net.py:123\u001B[0m, in \u001B[0;36mTwoLayerNet.loss\u001B[1;34m(self, X, y)\u001B[0m\n\u001B[0;32m    121\u001B[0m loss \u001B[38;5;241m+\u001B[39m\u001B[38;5;241m=\u001B[39m \u001B[38;5;241m0.5\u001B[39m \u001B[38;5;241m*\u001B[39m \u001B[38;5;28mself\u001B[39m\u001B[38;5;241m.\u001B[39mreg \u001B[38;5;241m*\u001B[39m (np\u001B[38;5;241m.\u001B[39msum(\u001B[38;5;28mself\u001B[39m\u001B[38;5;241m.\u001B[39mparams[\u001B[38;5;124m'\u001B[39m\u001B[38;5;124mW1\u001B[39m\u001B[38;5;124m'\u001B[39m] \u001B[38;5;241m*\u001B[39m\u001B[38;5;241m*\u001B[39m \u001B[38;5;241m2\u001B[39m) \u001B[38;5;241m+\u001B[39m np\u001B[38;5;241m.\u001B[39msum(\u001B[38;5;28mself\u001B[39m\u001B[38;5;241m.\u001B[39mparams[\u001B[38;5;124m'\u001B[39m\u001B[38;5;124mW2\u001B[39m\u001B[38;5;124m'\u001B[39m] \u001B[38;5;241m*\u001B[39m\u001B[38;5;241m*\u001B[39m \u001B[38;5;241m2\u001B[39m))\n\u001B[0;32m    122\u001B[0m drelu1, grads[\u001B[38;5;124m'\u001B[39m\u001B[38;5;124mW2\u001B[39m\u001B[38;5;124m'\u001B[39m], grads[\u001B[38;5;124m'\u001B[39m\u001B[38;5;124mb2\u001B[39m\u001B[38;5;124m'\u001B[39m] \u001B[38;5;241m=\u001B[39m affine_backward(daffine2, affine2)\n\u001B[1;32m--> 123\u001B[0m dx, grads[\u001B[38;5;124m'\u001B[39m\u001B[38;5;124mW1\u001B[39m\u001B[38;5;124m'\u001B[39m], grads[\u001B[38;5;124m'\u001B[39m\u001B[38;5;124mb1\u001B[39m\u001B[38;5;124m'\u001B[39m] \u001B[38;5;241m=\u001B[39m affine_relu_backward(drelu1, (affine1, relu1))\n\u001B[0;32m    124\u001B[0m grads[\u001B[38;5;124m'\u001B[39m\u001B[38;5;124mW1\u001B[39m\u001B[38;5;124m'\u001B[39m] \u001B[38;5;241m+\u001B[39m\u001B[38;5;241m=\u001B[39m \u001B[38;5;28mself\u001B[39m\u001B[38;5;241m.\u001B[39mreg \u001B[38;5;241m*\u001B[39m \u001B[38;5;28mself\u001B[39m\u001B[38;5;241m.\u001B[39mparams[\u001B[38;5;124m'\u001B[39m\u001B[38;5;124mW1\u001B[39m\u001B[38;5;124m'\u001B[39m]\n\u001B[0;32m    125\u001B[0m grads[\u001B[38;5;124m'\u001B[39m\u001B[38;5;124mW2\u001B[39m\u001B[38;5;124m'\u001B[39m] \u001B[38;5;241m+\u001B[39m\u001B[38;5;241m=\u001B[39m \u001B[38;5;28mself\u001B[39m\u001B[38;5;241m.\u001B[39mreg \u001B[38;5;241m*\u001B[39m \u001B[38;5;28mself\u001B[39m\u001B[38;5;241m.\u001B[39mparams[\u001B[38;5;124m'\u001B[39m\u001B[38;5;124mW2\u001B[39m\u001B[38;5;124m'\u001B[39m]\n",
      "File \u001B[1;32mC:\\coding\\Personal Project\\Stanford\\cs231n\\assignment1\\cs231n\\layer_utils.py:28\u001B[0m, in \u001B[0;36maffine_relu_backward\u001B[1;34m(dout, cache)\u001B[0m\n\u001B[0;32m     26\u001B[0m fc_cache, relu_cache \u001B[38;5;241m=\u001B[39m cache\n\u001B[0;32m     27\u001B[0m da \u001B[38;5;241m=\u001B[39m relu_backward(dout, relu_cache)\n\u001B[1;32m---> 28\u001B[0m dx, dw, db \u001B[38;5;241m=\u001B[39m affine_backward(da, fc_cache)\n\u001B[0;32m     29\u001B[0m \u001B[38;5;28;01mreturn\u001B[39;00m dx, dw, db\n",
      "File \u001B[1;32mC:\\coding\\Personal Project\\Stanford\\cs231n\\assignment1\\cs231n\\layers.py:64\u001B[0m, in \u001B[0;36maffine_backward\u001B[1;34m(dout, cache)\u001B[0m\n\u001B[0;32m     58\u001B[0m dx, dw, db \u001B[38;5;241m=\u001B[39m \u001B[38;5;28;01mNone\u001B[39;00m, \u001B[38;5;28;01mNone\u001B[39;00m, \u001B[38;5;28;01mNone\u001B[39;00m\n\u001B[0;32m     59\u001B[0m \u001B[38;5;66;03m###########################################################################\u001B[39;00m\n\u001B[0;32m     60\u001B[0m \u001B[38;5;66;03m# TODO: Implement the affine backward pass.                               #\u001B[39;00m\n\u001B[0;32m     61\u001B[0m \u001B[38;5;66;03m###########################################################################\u001B[39;00m\n\u001B[0;32m     62\u001B[0m \u001B[38;5;66;03m# *****START OF YOUR CODE (DO NOT DELETE/MODIFY THIS LINE)*****\u001B[39;00m\n\u001B[1;32m---> 64\u001B[0m dx, dw, db \u001B[38;5;241m=\u001B[39m np\u001B[38;5;241m.\u001B[39mdot(dout, w\u001B[38;5;241m.\u001B[39mT)\u001B[38;5;241m.\u001B[39mreshape(x\u001B[38;5;241m.\u001B[39mshape), np\u001B[38;5;241m.\u001B[39mdot(x\u001B[38;5;241m.\u001B[39mreshape(x\u001B[38;5;241m.\u001B[39mshape[\u001B[38;5;241m0\u001B[39m], \u001B[38;5;241m-\u001B[39m\u001B[38;5;241m1\u001B[39m)\u001B[38;5;241m.\u001B[39mT, dout), np\u001B[38;5;241m.\u001B[39msum(dout, axis\u001B[38;5;241m=\u001B[39m\u001B[38;5;241m0\u001B[39m)\n\u001B[0;32m     66\u001B[0m \u001B[38;5;66;03m# *****END OF YOUR CODE (DO NOT DELETE/MODIFY THIS LINE)*****\u001B[39;00m\n\u001B[0;32m     67\u001B[0m \u001B[38;5;66;03m###########################################################################\u001B[39;00m\n\u001B[0;32m     68\u001B[0m \u001B[38;5;66;03m#                             END OF YOUR CODE                            #\u001B[39;00m\n\u001B[0;32m     69\u001B[0m \u001B[38;5;66;03m###########################################################################\u001B[39;00m\n\u001B[0;32m     70\u001B[0m \u001B[38;5;28;01mreturn\u001B[39;00m dx, dw, db\n",
      "\u001B[1;31mKeyboardInterrupt\u001B[0m: "
     ]
    }
   ],
   "source": [
    "from cs231n.classifiers.fc_net import TwoLayerNet\n",
    "from cs231n.solver import Solver\n",
    "\n",
    "input_dim = X_train_feats.shape[1]\n",
    "hidden_dim = 500\n",
    "num_classes = 10\n",
    "\n",
    "data = {\n",
    "    'X_train': X_train_feats, \n",
    "    'y_train': y_train, \n",
    "    'X_val': X_val_feats, \n",
    "    'y_val': y_val, \n",
    "    'X_test': X_test_feats, \n",
    "    'y_test': y_test, \n",
    "}\n",
    "\n",
    "net = TwoLayerNet(input_dim, hidden_dim, num_classes)\n",
    "best_net = None\n",
    "\n",
    "################################################################################\n",
    "# TODO: Train a two-layer neural network on image features. You may want to    #\n",
    "# cross-validate various parameters as in previous sections. Store your best   #\n",
    "# model in the best_net variable.                                              #\n",
    "################################################################################\n",
    "# *****START OF YOUR CODE (DO NOT DELETE/MODIFY THIS LINE)*****\n",
    "\n",
    "optimizers = ['sgd', 'sgd_momentum', 'rmsprop', 'adam']\n",
    "learning_rates = [1e-3, 1e-2, 5e-2, 1e-1, 0.3]\n",
    "hidden_sizes = [500, 1000, 1500]\n",
    "regs = [0, 0.001, 0.01, 0.03, 0.1]\n",
    "best_val = -1\n",
    "for opt in optimizers:\n",
    "    for lr in learning_rates:\n",
    "        for hs in hidden_sizes:\n",
    "            for reg in regs:\n",
    "                net = TwoLayerNet(input_dim, hs, num_classes, reg=reg)\n",
    "                solver = Solver(net, data,\n",
    "                                update_rule=opt,\n",
    "                                optim_config={\n",
    "                                    'learning_rate': lr,\n",
    "                                },\n",
    "                                lr_decay=0.95,\n",
    "                                num_epochs=3, batch_size=100,\n",
    "                                verbose=False)\n",
    "                solver.train()\n",
    "                val_acc = solver.best_val_acc\n",
    "                if val_acc > best_val:\n",
    "                    best_val = val_acc\n",
    "                    best_net = net\n",
    "                    best_solver = solver\n",
    "                    best_params = (opt, lr, hs, reg)\n",
    "                    print('best validation accuracy achieved: %f' % best_val)\n",
    "                    print('best params: ', best_params)\n",
    "\n",
    "net = TwoLayerNet(input_dim, best_params[2], num_classes, reg=best_params[3])\n",
    "solver = Solver(net, data,\n",
    "                update_rule=best_params[0],\n",
    "                optim_config={\n",
    "                    'learning_rate': best_params[1],\n",
    "                },\n",
    "                lr_decay=0.95,\n",
    "                num_epochs=15, batch_size=100,\n",
    "                verbose=False)\n",
    "solver.train()\n",
    "best_net = net\n",
    "print('final validation accuracy achieved: %f' % solver.best_val_acc)\n",
    "\n",
    "# *****END OF YOUR CODE (DO NOT DELETE/MODIFY THIS LINE)*****\n"
   ]
  },
  {
   "cell_type": "code",
   "execution_count": 16,
   "id": "441fd5c2",
   "metadata": {
    "test": "nn_test_accuracy",
    "ExecuteTime": {
     "end_time": "2024-03-14T13:06:33.642334400Z",
     "start_time": "2024-03-14T13:06:33.521172200Z"
    }
   },
   "outputs": [
    {
     "name": "stdout",
     "output_type": "stream",
     "text": [
      "0.446\n"
     ]
    }
   ],
   "source": [
    "# Run your best neural net classifier on the test set. You should be able\n",
    "# to get more than 55% accuracy.\n",
    "\n",
    "y_test_pred = np.argmax(best_net.loss(data['X_test']), axis=1)\n",
    "test_acc = (y_test_pred == data['y_test']).mean()\n",
    "print(test_acc)"
   ]
  },
  {
   "cell_type": "code",
   "execution_count": null,
   "outputs": [],
   "source": [],
   "metadata": {
    "collapsed": false
   },
   "id": "bc852b4db700524b"
  }
 ],
 "metadata": {
  "kernelspec": {
   "name": "python3",
   "language": "python",
   "display_name": "Python 3 (ipykernel)"
  }
 },
 "nbformat": 4,
 "nbformat_minor": 5
}
